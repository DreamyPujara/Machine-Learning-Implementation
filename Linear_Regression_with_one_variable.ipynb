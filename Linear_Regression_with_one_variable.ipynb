{
  "nbformat": 4,
  "nbformat_minor": 0,
  "metadata": {
    "colab": {
      "provenance": []
    },
    "kernelspec": {
      "name": "python3",
      "display_name": "Python 3"
    },
    "language_info": {
      "name": "python"
    }
  },
  "cells": [
    {
      "cell_type": "code",
      "execution_count": 1,
      "metadata": {
        "id": "_kecG9_kgHqE"
      },
      "outputs": [],
      "source": [
        "import numpy as np\n",
        "import matplotlib.pyplot as plt\n"
      ]
    },
    {
      "cell_type": "code",
      "source": [
        "#x_train is the input variable(size in 1000 square feet)\n",
        "x_train = np.array([1.0,2.0])\n",
        "#y_train is the target (price in 1000s of dollars)\n",
        "y_train = np.array([300.0,500.0])\n",
        "\n",
        "print(f\"x_train = {x_train}\")\n",
        "print(f\"y_train = {y_train}\")\n"
      ],
      "metadata": {
        "colab": {
          "base_uri": "https://localhost:8080/"
        },
        "id": "P_7RYV9slRwR",
        "outputId": "e0b3929b-fdc6-489c-f1e2-a2c789c2fc6d"
      },
      "execution_count": 2,
      "outputs": [
        {
          "output_type": "stream",
          "name": "stdout",
          "text": [
            "x_train = [1. 2.]\n",
            "y_train = [300. 500.]\n"
          ]
        }
      ]
    },
    {
      "cell_type": "code",
      "source": [
        "#m is the number of training examples\n",
        "print(f\"x_train.shape:{x_train.shape}\")\n",
        "m = x_train.shape[0]\n",
        "print(f\"Number of training examples is: {m}\")"
      ],
      "metadata": {
        "colab": {
          "base_uri": "https://localhost:8080/"
        },
        "id": "YaIQpc1_l5HX",
        "outputId": "f1ee3a19-0579-4d6c-b35e-94f701928332"
      },
      "execution_count": 3,
      "outputs": [
        {
          "output_type": "stream",
          "name": "stdout",
          "text": [
            "x_train.shape:(2,)\n",
            "Number of training examples is: 2\n"
          ]
        }
      ]
    },
    {
      "cell_type": "code",
      "source": [
        "# m is the number of trainig examples\n",
        "m = len(x_train)\n",
        "print(f\"Number of training examples is : {m}\")"
      ],
      "metadata": {
        "colab": {
          "base_uri": "https://localhost:8080/"
        },
        "id": "DtViKt1AmoXP",
        "outputId": "fc36b4a3-f853-4183-eb53-9fdf434c7303"
      },
      "execution_count": 4,
      "outputs": [
        {
          "output_type": "stream",
          "name": "stdout",
          "text": [
            "Number of training examples is : 2\n"
          ]
        }
      ]
    },
    {
      "cell_type": "code",
      "source": [
        "#Training Example x_i , y_i"
      ],
      "metadata": {
        "id": "OtevLntkm7ox"
      },
      "execution_count": 5,
      "outputs": []
    },
    {
      "cell_type": "code",
      "source": [
        "i=0 \n",
        "x_i = x_train[i]\n",
        "y_i = y_train[i]\n",
        "print(f\"(x^({i}),y^({i})) = ({x_i}, {y_i})\")"
      ],
      "metadata": {
        "colab": {
          "base_uri": "https://localhost:8080/"
        },
        "id": "6EAWBDTnnJef",
        "outputId": "0230c763-bbba-4272-b9be-d2bf41f4e7eb"
      },
      "execution_count": 6,
      "outputs": [
        {
          "output_type": "stream",
          "name": "stdout",
          "text": [
            "(x^(0),y^(0)) = (1.0, 300.0)\n"
          ]
        }
      ]
    },
    {
      "cell_type": "code",
      "source": [
        "#Plotting the Data"
      ],
      "metadata": {
        "id": "5AOK9YEOnuke"
      },
      "execution_count": 7,
      "outputs": []
    },
    {
      "cell_type": "code",
      "source": [
        "#PLot the data points\n",
        "plt.scatter(x_train,y_train,marker = 'x',c='r')\n",
        "#Set the title\n",
        "plt.title(\"Housing Prices\")\n",
        "#set the y axis label\n",
        "plt.ylabel('price(in 1000s of dollars)')\n",
        "#set the x-axis label\n",
        "plt.xlabel('Size(1000 sqft)')\n",
        "plt.show()"
      ],
      "metadata": {
        "colab": {
          "base_uri": "https://localhost:8080/",
          "height": 295
        },
        "id": "uk28HZZFnzWl",
        "outputId": "4c90f222-06f2-4c5f-a573-b6cd86eb1f06"
      },
      "execution_count": 8,
      "outputs": [
        {
          "output_type": "display_data",
          "data": {
            "text/plain": [
              "<Figure size 432x288 with 1 Axes>"
            ],
            "image/png": "[encoded data removed]"
          },
          "metadata": {
            "needs_background": "light"
          }
        }
      ]
    },
    {
      "cell_type": "code",
      "source": [
        "w= 100\n",
        "b= 100\n",
        "print(f\"w: {w}\")\n",
        "print(f\"b: {b}\")"
      ],
      "metadata": {
        "colab": {
          "base_uri": "https://localhost:8080/"
        },
        "id": "C4gD4tC8ogz4",
        "outputId": "86641af3-af25-4214-de9f-9f47503d722f"
      },
      "execution_count": 9,
      "outputs": [
        {
          "output_type": "stream",
          "name": "stdout",
          "text": [
            "w: 100\n",
            "b: 100\n"
          ]
        }
      ]
    },
    {
      "cell_type": "code",
      "source": [
        "def compute_model_output(x, w, b):\n",
        "  m=x.shape[0]\n",
        "  f_wb=np.zeros(m)\n",
        "  for i in range(m):\n",
        "    f_wb[i]=w*x[i] + b\n",
        "  return f_wb"
      ],
      "metadata": {
        "id": "Vy1FdekMpHFr"
      },
      "execution_count": 10,
      "outputs": []
    },
    {
      "cell_type": "code",
      "source": [
        "temp_f_wb = compute_model_output(x_train,200,100)\n",
        "\n",
        "#Plot our model prediction \n",
        "plt.plot(x_train,temp_f_wb,c='b',label=\"Our Prediction\")\n",
        "\n",
        "#Plot the data points\n",
        "plt.scatter(x_train, y_train, marker='x',c='r',label = \"Actual Values\")\n",
        "\n",
        "#set the title\n",
        "plt.title(\"Housing Prices\")\n",
        "#set the y_axis label\n",
        "plt.ylabel('prices in dollar')\n",
        "#x_axis label\n",
        "plt.xlabel('size in sqrt')\n",
        "plt.legend()\n",
        "plt.show()"
      ],
      "metadata": {
        "colab": {
          "base_uri": "https://localhost:8080/",
          "height": 295
        },
        "id": "luDzSEehpoXp",
        "outputId": "f314ee94-46fc-4f19-83ed-fb6e5feed86e"
      },
      "execution_count": 14,
      "outputs": [
        {
          "output_type": "display_data",
          "data": {
            "text/plain": [
              "<Figure size 432x288 with 1 Axes>"
            ],
            "image/png": "[encoded data removed]"
          },
          "metadata": {
            "needs_background": "light"
          }
        }
      ]
    },
    {
      "cell_type": "code",
      "source": [
        "w = 200                         \n",
        "b = 100    \n",
        "x_i = 1.2\n",
        "cost_1200sqft = w * x_i + b    \n",
        "\n",
        "print(f\"${cost_1200sqft:.0f} thousand dollars\")"
      ],
      "metadata": {
        "colab": {
          "base_uri": "https://localhost:8080/"
        },
        "id": "Ysr5C8q2pvn7",
        "outputId": "4827a005-6cbf-4b41-baed-c5242a705dd8"
      },
      "execution_count": 13,
      "outputs": [
        {
          "output_type": "stream",
          "name": "stdout",
          "text": [
            "$340 thousand dollars\n"
          ]
        }
      ]
    },
    {
      "cell_type": "code",
      "source": [],
      "metadata": {
        "id": "GiyNtmYdrjXm"
      },
      "execution_count": null,
      "outputs": []
    }
  ]
}