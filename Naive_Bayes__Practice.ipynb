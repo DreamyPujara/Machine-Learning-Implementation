{
  "nbformat": 4,
  "nbformat_minor": 0,
  "metadata": {
    "colab": {
      "provenance": []
    },
    "kernelspec": {
      "name": "python3",
      "display_name": "Python 3"
    },
    "language_info": {
      "name": "python"
    }
  },
  "cells": [
    {
      "cell_type": "code",
      "execution_count": null,
      "metadata": {
        "colab": {
          "base_uri": "https://localhost:8080/"
        },
        "id": "daA9diF4nt23",
        "outputId": "10770eff-85cb-40bc-fa26-ea39f94f6072"
      },
      "outputs": [
        {
          "output_type": "stream",
          "name": "stdout",
          "text": [
            "Accuracy: 1.00\n"
          ]
        }
      ],
      "source": [
        "from sklearn.datasets import load_iris\n",
        "from sklearn.naive_bayes import GaussianNB\n",
        "from sklearn.model_selection import train_test_split\n",
        "from sklearn.metrics import accuracy_score\n",
        "\n",
        "# Load iris dataset\n",
        "iris = load_iris()\n",
        "X = iris.data\n",
        "y = iris.target\n",
        "\n",
        "# Split the dataset into training and testing sets\n",
        "X_train, X_test, y_train, y_test = train_test_split(\n",
        "    X, y, test_size=0.2, random_state=42)\n",
        "\n",
        "# Initialize Gaussian Naive Bayes classifier\n",
        "gnb = GaussianNB()\n",
        "\n",
        "# Train the classifier using the training data\n",
        "gnb.fit(X_train, y_train)\n",
        "\n",
        "# Predict the classes of the test data\n",
        "y_pred = gnb.predict(X_test)\n",
        "\n",
        "# Calculate the accuracy score\n",
        "accuracy = accuracy_score(y_test, y_pred)\n",
        "\n",
        "print(f\"Accuracy: {accuracy:.2f}\")"
      ]
    },
    {
      "cell_type": "markdown",
      "source": [
        "from sklearn.datasets import load_iris: This line imports the load_iris function from the sklearn.datasets module, which loads the iris dataset.\n",
        "from sklearn.naive_bayes import GaussianNB: This line imports the GaussianNB class from the sklearn.naive_bayes module, which is a Gaussian Naive Bayes classifier.\n",
        "from sklearn.model_selection import train_test_split: This line imports the train_test_split function from the sklearn.model_selection module, which splits the data into training and testing sets.\n",
        "from sklearn.metrics import accuracy_score: This line imports the accuracy_score function from the sklearn.metrics module, which calculates the accuracy score of the classifier.\n",
        "iris = load_iris(): This line loads the iris dataset.\n",
        "X = iris.data: This line extracts the input features from the dataset.\n",
        "y = iris.target: This line extracts the target variable from the dataset.\n",
        "X_train, X_test, y_train, y_test = train_test_split(X, y, test_size=0.2, random_state=42): This line splits the data into training and testing sets. 80% of the data is used for training and 20% for testing.\n",
        "gnb = GaussianNB(): This line initializes a Gaussian Naive Bayes classifier.\n",
        "gnb.fit(X_train, y_train): This line fits the classifier to the training data.\n",
        "y_pred = gnb.predict(X_test): This line predicts the classes of the test data.\n",
        "accuracy = accuracy_score(y_test, y_pred): This line calculates the accuracy score of the classifier.\n",
        "print(f\"Accuracy: {accuracy:.2f}\"): This line prints the accuracy score with two decimal places.\n",
        "The code uses the iris dataset to train a Gaussian Naive Bayes classifier and predicts the classes of the test data. The accuracy score is calculated to evaluate the performance of the classifier."
      ],
      "metadata": {
        "id": "Dj0CZIFNoDq9"
      }
    },
    {
      "cell_type": "code",
      "source": [],
      "metadata": {
        "id": "jd_s24s4n55Z"
      },
      "execution_count": null,
      "outputs": []
    }
  ]
}